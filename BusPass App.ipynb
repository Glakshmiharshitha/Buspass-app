{
 "cells": [
  {
   "cell_type": "code",
   "execution_count": 1,
   "id": "4843246e",
   "metadata": {},
   "outputs": [
    {
     "name": "stdout",
     "output_type": "stream",
     "text": [
      "Requirement already satisfied: kivy in c:\\anaconda\\lib\\site-packages (2.2.1)\n",
      "Requirement already satisfied: Kivy-Garden>=0.1.4 in c:\\anaconda\\lib\\site-packages (from kivy) (0.1.5)\n",
      "Requirement already satisfied: pygments in c:\\anaconda\\lib\\site-packages (from kivy) (2.11.2)\n",
      "Requirement already satisfied: kivy-deps.sdl2~=0.6.0 in c:\\anaconda\\lib\\site-packages (from kivy) (0.6.0)\n",
      "Requirement already satisfied: kivy-deps.glew~=0.3.1 in c:\\anaconda\\lib\\site-packages (from kivy) (0.3.1)\n",
      "Requirement already satisfied: pypiwin32 in c:\\anaconda\\lib\\site-packages (from kivy) (223)\n",
      "Requirement already satisfied: docutils in c:\\anaconda\\lib\\site-packages (from kivy) (0.18.1)\n",
      "Requirement already satisfied: kivy-deps.angle~=0.3.3 in c:\\anaconda\\lib\\site-packages (from kivy) (0.3.3)\n",
      "Requirement already satisfied: requests in c:\\anaconda\\lib\\site-packages (from Kivy-Garden>=0.1.4->kivy) (2.28.1)\n",
      "Requirement already satisfied: pywin32>=223 in c:\\anaconda\\lib\\site-packages (from pypiwin32->kivy) (302)\n",
      "Requirement already satisfied: urllib3<1.27,>=1.21.1 in c:\\anaconda\\lib\\site-packages (from requests->Kivy-Garden>=0.1.4->kivy) (1.26.11)\n",
      "Requirement already satisfied: certifi>=2017.4.17 in c:\\anaconda\\lib\\site-packages (from requests->Kivy-Garden>=0.1.4->kivy) (2022.9.14)\n",
      "Requirement already satisfied: idna<4,>=2.5 in c:\\anaconda\\lib\\site-packages (from requests->Kivy-Garden>=0.1.4->kivy) (3.3)\n",
      "Requirement already satisfied: charset-normalizer<3,>=2 in c:\\anaconda\\lib\\site-packages (from requests->Kivy-Garden>=0.1.4->kivy) (2.0.4)\n",
      "Note: you may need to restart the kernel to use updated packages.\n"
     ]
    }
   ],
   "source": [
    "pip install kivy"
   ]
  },
  {
   "cell_type": "code",
   "execution_count": 1,
   "id": "97af4f0a",
   "metadata": {},
   "outputs": [
    {
     "name": "stderr",
     "output_type": "stream",
     "text": [
      "[INFO   ] [Logger      ] Record log in C:\\Users\\gvdiw\\.kivy\\logs\\kivy_24-05-24_0.txt\n",
      "[INFO   ] [deps        ] Successfully imported \"kivy_deps.angle\" 0.3.3\n",
      "[INFO   ] [deps        ] Successfully imported \"kivy_deps.glew\" 0.3.1\n",
      "[INFO   ] [deps        ] Successfully imported \"kivy_deps.sdl2\" 0.6.0\n",
      "[INFO   ] [Kivy        ] v2.2.1\n",
      "[INFO   ] [Kivy        ] Installed at \"C:\\anaconda\\lib\\site-packages\\kivy\\__init__.py\"\n",
      "[INFO   ] [Python      ] v3.9.13 (main, Aug 25 2022, 23:51:50) [MSC v.1916 64 bit (AMD64)]\n",
      "[INFO   ] [Python      ] Interpreter at \"C:\\anaconda\\python.exe\"\n",
      "[INFO   ] [Logger      ] Purge log fired. Processing...\n",
      "[INFO   ] [Logger      ] Purge finished!\n",
      "[INFO   ] [Factory     ] 190 symbols loaded\n",
      "[INFO   ] [Image       ] Providers: img_tex, img_dds, img_sdl2, img_pil (img_ffpyplayer ignored)\n",
      "[INFO   ] [Window      ] Provider: sdl2\n",
      "[INFO   ] [GL          ] Using the \"OpenGL\" graphics system\n",
      "[INFO   ] [GL          ] GLEW initialization succeeded\n",
      "[INFO   ] [GL          ] Backend used <glew>\n",
      "[INFO   ] [GL          ] OpenGL version <b'4.6.0 - Build 31.0.101.4502'>\n",
      "[INFO   ] [GL          ] OpenGL vendor <b'Intel'>\n",
      "[INFO   ] [GL          ] OpenGL renderer <b'Intel(R) Iris(R) Xe Graphics'>\n",
      "[INFO   ] [GL          ] OpenGL parsed version: 4, 6\n",
      "[INFO   ] [GL          ] Shading version <b'4.60 - Build 31.0.101.4502'>\n",
      "[INFO   ] [GL          ] Texture max size <16384>\n",
      "[INFO   ] [GL          ] Texture max units <32>\n",
      "[INFO   ] [Window      ] auto add sdl2 input provider\n",
      "[INFO   ] [Window      ] virtual keyboard not allowed, single mode, not docked\n",
      "[INFO   ] [Text        ] Provider: sdl2\n",
      "[INFO   ] [GL          ] NPOT texture support is available\n",
      "[INFO   ] [Base        ] Start application main loop\n"
     ]
    },
    {
     "name": "stdout",
     "output_type": "stream",
     "text": [
      "Registered user: gdiwakar, Email: naniffrefg@gmail.com\n",
      "Pass Type: dialy, Validity: 30\n"
     ]
    },
    {
     "name": "stderr",
     "output_type": "stream",
     "text": [
      "[INFO   ] [Base        ] Leaving application in progress...\n"
     ]
    }
   ],
   "source": [
    "from kivy.app import App\n",
    "from kivy.uix.boxlayout import BoxLayout\n",
    "from kivy.uix.textinput import TextInput\n",
    "from kivy.uix.button import Button\n",
    "from kivy.uix.label import Label\n",
    "\n",
    "class BusPassApp(App):\n",
    "    def build(self):\n",
    "        self.username_input = TextInput(hint_text=\"Username\", multiline=False)\n",
    "        self.email_input = TextInput(hint_text=\"Email\", multiline=False)\n",
    "        self.pass_type_input = TextInput(hint_text=\"Pass Type (e.g., daily, weekly, monthly)\", multiline=False)\n",
    "        self.validity_input = TextInput(hint_text=\"Validity Duration (e.g., 30 days)\", multiline=False)\n",
    "\n",
    "        self.register_button = Button(text=\"Register\", on_press=self.register)\n",
    "        self.apply_pass_button = Button(text=\"Apply for Bus Pass\", on_press=self.apply_for_pass)\n",
    "\n",
    "        self.feedback_label = Label(size_hint_y=None, height=40)\n",
    "\n",
    "        layout = BoxLayout(orientation='vertical')\n",
    "        layout.add_widget(self.username_input)\n",
    "        layout.add_widget(self.email_input)\n",
    "        layout.add_widget(self.pass_type_input)\n",
    "        layout.add_widget(self.validity_input)\n",
    "        layout.add_widget(self.register_button)\n",
    "        layout.add_widget(self.apply_pass_button)\n",
    "        layout.add_widget(self.feedback_label)\n",
    "\n",
    "        return layout\n",
    "\n",
    "    def register(self, instance):\n",
    "        username = self.username_input.text.strip()\n",
    "        email = self.email_input.text.strip()\n",
    "\n",
    "        if username and email:\n",
    "            \n",
    "            print(f\"Registered user: {username}, Email: {email}\")\n",
    "            self.feedback_label.text = \"Registration successful!\"\n",
    "            self.clear_inputs()\n",
    "        else:\n",
    "            self.feedback_label.text = \"Please enter both username and email.\"\n",
    "\n",
    "    def apply_for_pass(self, instance):\n",
    "        pass_type = self.pass_type_input.text.strip()\n",
    "        validity = self.validity_input.text.strip()\n",
    "\n",
    "        if pass_type and validity:\n",
    "            \n",
    "            print(f\"Pass Type: {pass_type}, Validity: {validity}\")\n",
    "            self.feedback_label.text = \"Bus pass application successful!\"\n",
    "            self.clear_inputs()\n",
    "        else:\n",
    "            self.feedback_label.text = \"Please enter both pass type and validity duration.\"\n",
    "\n",
    "    def clear_inputs(self):\n",
    "        self.username_input.text = \"\"\n",
    "        self.email_input.text = \"\"\n",
    "        self.pass_type_input.text = \"\"\n",
    "        self.validity_input.text = \"\"\n",
    "\n",
    "if __name__ == '__main__':\n",
    "    BusPassApp().run()\n"
   ]
  }
 ],
 "metadata": {
  "kernelspec": {
   "display_name": "Python 3 (ipykernel)",
   "language": "python",
   "name": "python3"
  },
  "language_info": {
   "codemirror_mode": {
    "name": "ipython",
    "version": 3
   },
   "file_extension": ".py",
   "mimetype": "text/x-python",
   "name": "python",
   "nbconvert_exporter": "python",
   "pygments_lexer": "ipython3",
   "version": "3.9.13"
  }
 },
 "nbformat": 4,
 "nbformat_minor": 5
}
